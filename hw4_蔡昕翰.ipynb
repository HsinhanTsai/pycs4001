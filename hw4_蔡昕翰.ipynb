{
  "nbformat": 4,
  "nbformat_minor": 0,
  "metadata": {
    "colab": {
      "name": "hw4_蔡昕翰.ipynb",
      "provenance": [],
      "include_colab_link": true
    },
    "kernelspec": {
      "name": "python3",
      "display_name": "Python 3"
    },
    "language_info": {
      "name": "python"
    }
  },
  "cells": [
    {
      "cell_type": "markdown",
      "metadata": {
        "id": "view-in-github",
        "colab_type": "text"
      },
      "source": [
        "<a href=\"https://colab.research.google.com/github/HsinhanTsai/pycs4001/blob/main/hw4_%E8%94%A1%E6%98%95%E7%BF%B0.ipynb\" target=\"_parent\"><img src=\"https://colab.research.google.com/assets/colab-badge.svg\" alt=\"Open In Colab\"/></a>"
      ]
    },
    {
      "cell_type": "code",
      "execution_count": null,
      "metadata": {
        "id": "wwYlPOe5C8Ed"
      },
      "outputs": [],
      "source": [
        "import numpy as np\n",
        "A_row0 = list(map(int,input(\"A:\\n\").split()))\n",
        "A_row1 = list(map(int,input().split()))\n",
        "B_row0 = list(map(int,input(\"B:\\n\").split()))\n",
        "B_row1 = list(map(int,input().split()))\n",
        "B_row2 = list(map(int,input().split()))\n",
        "A = np.array([A_row0,A_row1])\n",
        "B = np.array([B_row0,B_row1,B_row2])\n",
        "print(np.matmul(A,B))"
      ]
    },
    {
      "cell_type": "code",
      "source": [
        "import numpy as np\n",
        "A = np.array(list(map(int,input(\"A class:\").split())))\n",
        "B = np.array(list(map(int,input(\"B class:\").split())))\n",
        "C = np.array(list(map(int,input(\"C class:\").split())))\n",
        "print(f\"A class 總和:{sum(A)}, 最大:{max(A)}\")\n",
        "print(f\"B class 總和:{sum(B)}, 最大:{max(B)}\")\n",
        "print(f\"C class 總和:{sum(C)}, 最大:{max(C)}\")"
      ],
      "metadata": {
        "id": "ypIHTTEiFCCV"
      },
      "execution_count": null,
      "outputs": []
    }
  ]
}