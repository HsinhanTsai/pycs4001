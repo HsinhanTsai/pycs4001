{
  "nbformat": 4,
  "nbformat_minor": 0,
  "metadata": {
    "colab": {
      "name": "hw1_蔡昕翰.ipynb",
      "provenance": [],
      "collapsed_sections": [],
      "include_colab_link": true
    },
    "kernelspec": {
      "name": "python3",
      "display_name": "Python 3"
    },
    "language_info": {
      "name": "python"
    }
  },
  "cells": [
    {
      "cell_type": "markdown",
      "metadata": {
        "id": "view-in-github",
        "colab_type": "text"
      },
      "source": [
        "<a href=\"https://colab.research.google.com/github/HsinhanTsai/pycs4001/blob/main/hw1_%E8%94%A1%E6%98%95%E7%BF%B0.ipynb\" target=\"_parent\"><img src=\"https://colab.research.google.com/assets/colab-badge.svg\" alt=\"Open In Colab\"/></a>"
      ]
    },
    {
      "cell_type": "code",
      "execution_count": null,
      "metadata": {
        "id": "u3j6eTxkWPT2"
      },
      "outputs": [],
      "source": [
        "try:\n",
        "  a = int(input())\n",
        "  b = int(input())\n",
        "  ans = a/b\n",
        "  print(f\"{ans:.2f}\")\n",
        "except:\n",
        "  print(\"請輸入正確數字格式\")"
      ]
    },
    {
      "cell_type": "code",
      "source": [
        "n = int(input())\n",
        "if n%2==0 and n%3==0:\n",
        "  print(f\"{n}為 6 的倍數\")\n",
        "elif n%2==0:\n",
        "  print(f\"{n}為 2 的倍數\")\n",
        "elif n%3==0:\n",
        "  print(f\"{n}為 3 的倍數\")"
      ],
      "metadata": {
        "id": "BBK36GlV9O-f"
      },
      "execution_count": null,
      "outputs": []
    },
    {
      "cell_type": "code",
      "source": [
        "n = int(input())\n",
        "a = n//3600\n",
        "b = (n-a*3600)//60\n",
        "c = n-a*3600-b*60\n",
        "print(f\"{a} 時 {b} 分 {c} 秒\")"
      ],
      "metadata": {
        "id": "gP5taT5eAB3-"
      },
      "execution_count": null,
      "outputs": []
    },
    {
      "cell_type": "code",
      "source": [
        "n = int(input())\n",
        "i = 1\n",
        "while i < n:\n",
        "  if i == n-1:\n",
        "    print(f\"{i}\",end=\"\")\n",
        "  else:  \n",
        "    print(f\"{i}\",end=\" \")\n",
        "  i = i+2"
      ],
      "metadata": {
        "id": "O_WRv9SCB5Ec"
      },
      "execution_count": null,
      "outputs": []
    }
  ]
}