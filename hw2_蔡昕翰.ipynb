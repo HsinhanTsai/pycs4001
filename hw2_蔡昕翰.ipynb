{
  "nbformat": 4,
  "nbformat_minor": 0,
  "metadata": {
    "colab": {
      "name": "hw2_蔡昕翰.ipynb",
      "provenance": [],
      "collapsed_sections": [],
      "include_colab_link": true
    },
    "kernelspec": {
      "name": "python3",
      "display_name": "Python 3"
    },
    "language_info": {
      "name": "python"
    }
  },
  "cells": [
    {
      "cell_type": "markdown",
      "metadata": {
        "id": "view-in-github",
        "colab_type": "text"
      },
      "source": [
        "<a href=\"https://colab.research.google.com/github/HsinhanTsai/pycs4001/blob/main/hw2_%E8%94%A1%E6%98%95%E7%BF%B0.ipynb\" target=\"_parent\"><img src=\"https://colab.research.google.com/assets/colab-badge.svg\" alt=\"Open In Colab\"/></a>"
      ]
    },
    {
      "cell_type": "code",
      "execution_count": null,
      "metadata": {
        "id": "WQxVLxScb3zF"
      },
      "outputs": [],
      "source": [
        "n = int(input())\n",
        "total = 0\n",
        "for i in range(1,n+1):\n",
        "  if i == n:\n",
        "    print(i,end=\"=\")\n",
        "  else:\n",
        "    print(i,end=\"+\")\n",
        "  total += i\n",
        "print(total,end=\"\")"
      ]
    },
    {
      "cell_type": "code",
      "source": [
        "l = (input())[1:-1].split(\",\")\n",
        "l = list(map(int,l))\n",
        "score = int(input())\n",
        "ans = []\n",
        "for v in l:\n",
        "  if v >= score:\n",
        "    ans.append(v)\n",
        "print(ans)"
      ],
      "metadata": {
        "id": "fcdIepTXdxsm"
      },
      "execution_count": null,
      "outputs": []
    },
    {
      "cell_type": "code",
      "source": [
        "x = input().split()\n",
        "x = list(map(int,x))\n",
        "total = 0\n",
        "for v in x:\n",
        "  if v % 2 == 0:\n",
        "    total += v\n",
        "print(total)"
      ],
      "metadata": {
        "id": "zPRaM-Vrqcw9"
      },
      "execution_count": null,
      "outputs": []
    },
    {
      "cell_type": "code",
      "source": [
        "t = input()\n",
        "p = input()\n",
        "ans = 0\n",
        "for i in range(len(t)-len(p)+1):\n",
        "  if t[i:i+len(p)]==p:\n",
        "    ans += 1\n",
        "print(ans)"
      ],
      "metadata": {
        "id": "dxwYwtSKrmTK"
      },
      "execution_count": null,
      "outputs": []
    }
  ]
}