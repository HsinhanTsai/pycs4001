{
  "nbformat": 4,
  "nbformat_minor": 0,
  "metadata": {
    "colab": {
      "name": "hw3_蔡昕翰.ipynb",
      "provenance": [],
      "include_colab_link": true
    },
    "kernelspec": {
      "name": "python3",
      "display_name": "Python 3"
    },
    "language_info": {
      "name": "python"
    }
  },
  "cells": [
    {
      "cell_type": "markdown",
      "metadata": {
        "id": "view-in-github",
        "colab_type": "text"
      },
      "source": [
        "<a href=\"https://colab.research.google.com/github/HsinhanTsai/pycs4001/blob/main/hw3_%E8%94%A1%E6%98%95%E7%BF%B0.ipynb\" target=\"_parent\"><img src=\"https://colab.research.google.com/assets/colab-badge.svg\" alt=\"Open In Colab\"/></a>"
      ]
    },
    {
      "cell_type": "code",
      "execution_count": null,
      "metadata": {
        "id": "Ww8BSpWJW8Bc"
      },
      "outputs": [],
      "source": [
        "n = int(input())\n",
        "for i in range(n):\n",
        "  for j in range(i):\n",
        "    print(\" \",end=\"\")\n",
        "  for j in range(n-i):\n",
        "    print(\"*\",end=\"\")\n",
        "  print()"
      ]
    },
    {
      "cell_type": "code",
      "source": [
        "n = int(input())\n",
        "for i in range(n):\n",
        "  for j in range(n-i-1):\n",
        "    print(\" \",end=\"\")\n",
        "  for j in range(i+1):\n",
        "    print(\"*\",end=\"\")\n",
        "  print()"
      ],
      "metadata": {
        "id": "cfHowRmXXok_"
      },
      "execution_count": null,
      "outputs": []
    },
    {
      "cell_type": "code",
      "source": [
        "def get_distance(point1,point2):\n",
        "  return ((point1[0]-point2[0])**2+(point1[1]-point2[1])**2)**0.5\n",
        "point1 = list(map(int,input(\"point1:\").split()))\n",
        "point2 = list(map(int,input(\"point2:\").split()))\n",
        "print(f\"{get_distance(point1,point2):.2f}\")"
      ],
      "metadata": {
        "id": "0cILVV9fYsUn"
      },
      "execution_count": null,
      "outputs": []
    },
    {
      "cell_type": "code",
      "source": [
        "import random as r\n",
        "row = int(input(\"row:\"))\n",
        "col = int(input(\"col:\"))\n",
        "ans = []\n",
        "for i in range(row):\n",
        "  ans.append([])\n",
        "  for j in range(col):\n",
        "    ans[i].append(r.randint(1,20))\n",
        "for i in range(row):\n",
        "  for j in range(col):\n",
        "    print(f\"{ans[i][j]:2d}\",end=\" \")\n",
        "  print()"
      ],
      "metadata": {
        "id": "lAOtoBIaaMNA"
      },
      "execution_count": null,
      "outputs": []
    }
  ]
}